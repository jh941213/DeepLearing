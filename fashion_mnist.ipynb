{
  "nbformat": 4,
  "nbformat_minor": 0,
  "metadata": {
    "colab": {
      "provenance": [],
      "authorship_tag": "ABX9TyPJGum9LteqSmbnkK0w/ywc",
      "include_colab_link": true
    },
    "kernelspec": {
      "name": "python3",
      "display_name": "Python 3"
    },
    "language_info": {
      "name": "python"
    }
  },
  "cells": [
    {
      "cell_type": "markdown",
      "metadata": {
        "id": "view-in-github",
        "colab_type": "text"
      },
      "source": [
        "<a href=\"https://colab.research.google.com/github/jh941213/DeepLearing/blob/main/fashion_mnist.ipynb\" target=\"_parent\"><img src=\"https://colab.research.google.com/assets/colab-badge.svg\" alt=\"Open In Colab\"/></a>"
      ]
    },
    {
      "cell_type": "code",
      "source": [
        "import tensorflow as tf # tf.keras.datasets 모듈은 신경망의 훈련에 사용할 수 있는 여러 데이터셋을 포함합니다.\n",
        "\n",
        "# 1. Fashion MNIST 데이터셋 불러오기\n",
        "fashion_mnist = tf.keras.datasets.fashion_mnist\n",
        "(train_images, train_labels), (test_images, test_labels) = fashion_mnist.load_data()"
      ],
      "metadata": {
        "colab": {
          "base_uri": "https://localhost:8080/"
        },
        "id": "kxT-9anQQ17f",
        "outputId": "8a95d914-4328-4b2c-b019-6d7edd1823a6"
      },
      "execution_count": 1,
      "outputs": [
        {
          "output_type": "stream",
          "name": "stdout",
          "text": [
            "Downloading data from https://storage.googleapis.com/tensorflow/tf-keras-datasets/train-labels-idx1-ubyte.gz\n",
            "29515/29515 [==============================] - 0s 0us/step\n",
            "Downloading data from https://storage.googleapis.com/tensorflow/tf-keras-datasets/train-images-idx3-ubyte.gz\n",
            "26421880/26421880 [==============================] - 2s 0us/step\n",
            "Downloading data from https://storage.googleapis.com/tensorflow/tf-keras-datasets/t10k-labels-idx1-ubyte.gz\n",
            "5148/5148 [==============================] - 0s 0us/step\n",
            "Downloading data from https://storage.googleapis.com/tensorflow/tf-keras-datasets/t10k-images-idx3-ubyte.gz\n",
            "4422102/4422102 [==============================] - 0s 0us/step\n"
          ]
        }
      ]
    },
    {
      "cell_type": "code",
      "source": [
        "print(train_images[0])\n",
        "print(train_labels[0])"
      ],
      "metadata": {
        "id": "baX84tFzQ54z"
      },
      "execution_count": null,
      "outputs": []
    },
    {
      "cell_type": "code",
      "source": [
        "print(train_images.shape) # train 6만개 28x28 data\n",
        "print(train_labels.shape)\n",
        "print(test_images.shape)# test 1만개 28x28 data\n",
        "print(test_labels.shape)"
      ],
      "metadata": {
        "colab": {
          "base_uri": "https://localhost:8080/"
        },
        "id": "PFUXcNVXROAW",
        "outputId": "00a76d92-ec4a-4164-be8d-e00e274c91e9"
      },
      "execution_count": 7,
      "outputs": [
        {
          "output_type": "stream",
          "name": "stdout",
          "text": [
            "(60000, 28, 28)\n",
            "(60000,)\n",
            "(10000, 28, 28)\n",
            "(10000,)\n"
          ]
        }
      ]
    },
    {
      "cell_type": "code",
      "source": [
        "# 2. 데이터 전처리\n",
        "train_images, test_images = train_images / 255.0, test_images / 255.0"
      ],
      "metadata": {
        "id": "0oBjd0SSRuQz"
      },
      "execution_count": 8,
      "outputs": []
    },
    {
      "cell_type": "code",
      "source": [
        "# 3. 모델 구성\n",
        "model = tf.keras.models.Sequential([\n",
        "    tf.keras.layers.Flatten(input_shape=(28, 28)), # 그림과 함께 입력한 데이터를 1차원으로 변형한다.\n",
        "    tf.keras.layers.Dense(512, activation='relu'), #활성화 함수 relu\n",
        "    tf.keras.layers.Dense(10, activation='softmax') #softmax\n",
        "])"
      ],
      "metadata": {
        "id": "cXIvi7w6Sd5g"
      },
      "execution_count": 9,
      "outputs": []
    },
    {
      "cell_type": "code",
      "source": [
        "# 4. 모델 컴파일\n",
        "model.compile(optimizer='adam', #옵티마이저 는 데이터와 손해를 생생하게 바탕으로 모델(의 웨이트와 달라)을 업데이트하는 방식\n",
        "            loss='sparse_categorical_crossentropy',\n",
        "            metrics=['accuracy']) #지표는 훈련과 테스트 단계를 평가하기 위해 사용, accuracy 로 설정시 이미지르르 굵은 극심한 모델을 평가"
      ],
      "metadata": {
        "id": "mXp5_pJNSkB8"
      },
      "execution_count": 12,
      "outputs": []
    },
    {
      "cell_type": "code",
      "source": [
        "# 5. 모델 훈련\n",
        "\n",
        "model.fit(train_images, train_labels, epochs=5) #에포크는 6만개의 이미지를 5번"
      ],
      "metadata": {
        "colab": {
          "base_uri": "https://localhost:8080/"
        },
        "id": "DQ2q22rsSr2e",
        "outputId": "b03eea8c-d2f7-4260-b854-2bb234360e7a"
      },
      "execution_count": 13,
      "outputs": [
        {
          "output_type": "stream",
          "name": "stdout",
          "text": [
            "Epoch 1/5\n",
            "1875/1875 [==============================] - 12s 6ms/step - loss: 0.4008 - accuracy: 0.8543\n",
            "Epoch 2/5\n",
            "1875/1875 [==============================] - 11s 6ms/step - loss: 0.3384 - accuracy: 0.8741\n",
            "Epoch 3/5\n",
            "1875/1875 [==============================] - 11s 6ms/step - loss: 0.3094 - accuracy: 0.8846\n",
            "Epoch 4/5\n",
            "1875/1875 [==============================] - 10s 6ms/step - loss: 0.2886 - accuracy: 0.8930\n",
            "Epoch 5/5\n",
            "1875/1875 [==============================] - 11s 6ms/step - loss: 0.2702 - accuracy: 0.8999\n"
          ]
        },
        {
          "output_type": "execute_result",
          "data": {
            "text/plain": [
              "<keras.callbacks.History at 0x7f847777dd10>"
            ]
          },
          "metadata": {},
          "execution_count": 13
        }
      ]
    },
    {
      "cell_type": "code",
      "source": [
        "# 6. 정확도 평가하기\n",
        "#evaluate() 메서드를 이용해 손실과 최소(정확도)를 각각 얻을 수 있다.\n",
        "loss, accuracy = model.evaluate(test_images, test_labels)\n",
        "print(loss, accuracy)"
      ],
      "metadata": {
        "colab": {
          "base_uri": "https://localhost:8080/"
        },
        "id": "tF3uBPgETGpt",
        "outputId": "80a5f352-099e-4996-bc50-3f754ea80393"
      },
      "execution_count": 14,
      "outputs": [
        {
          "output_type": "stream",
          "name": "stdout",
          "text": [
            "313/313 [==============================] - 1s 3ms/step - loss: 0.3447 - accuracy: 0.8755\n",
            "0.344662070274353 0.8755000233650208\n"
          ]
        }
      ]
    },
    {
      "cell_type": "code",
      "source": [
        "# 7. 예측하기\n",
        "import numpy as np\n",
        "predictions = model.predict(test_images) #predict 예측\n",
        "print(predictions[0]) # 첫 번째 예측 예측[0]을 출력하여 10개의 값을 받고, 입력 이미지가 열 개수 숫자 중 어떤 숫자일 확률을 의미합니다.\n",
        "print(np.argmax(predictions[0]))#np.argmax() 를 출력하여 가장 높은 가치를 얻을 수 있도록 지원합니다.\n",
        "#즉, 학습된 신경망은 이 이미지가 발목 부츠라고 예측합니다."
      ],
      "metadata": {
        "colab": {
          "base_uri": "https://localhost:8080/"
        },
        "id": "_lAkwTnrTlcT",
        "outputId": "43155103-958d-4dad-9e74-f8098d17513d"
      },
      "execution_count": 16,
      "outputs": [
        {
          "output_type": "stream",
          "name": "stdout",
          "text": [
            "313/313 [==============================] - 1s 3ms/step\n",
            "[1.2905149e-06 2.6483316e-09 8.4476021e-08 4.1317092e-09 8.5348475e-08\n",
            " 5.6173326e-04 4.4906247e-07 2.3069819e-02 5.3512622e-07 9.7636592e-01]\n",
            "9\n"
          ]
        }
      ]
    },
    {
      "cell_type": "code",
      "source": [
        "import tensorflow as tf\n",
        "import numpy as np\n",
        "\n",
        "# 1. Fashion MNIST 데이터셋 임포트\n",
        "fashion_mnist = tf.keras.datasets.fashion_mnist\n",
        "(train_images, train_labels), (test_images, test_labels) = fashion_mnist.load_data()\n",
        "\n",
        "\n",
        "# 2. 데이터 전처리\n",
        "train_images, test_images = train_images / 255.0, test_images / 255.0\n",
        "\n",
        "\n",
        "# 3. 모델 구성\n",
        "model = tf.keras.models.Sequential([\n",
        "    tf.keras.layers.Flatten(input_shape=(28, 28)),\n",
        "    tf.keras.layers.Dense(512, activation='relu'),\n",
        "    tf.keras.layers.Dense(10, activation='softmax')\n",
        "])\n",
        "\n",
        "\n",
        "# 4. 모델 컴파일\n",
        "model.compile(optimizer='adam',\n",
        "              loss='sparse_categorical_crossentropy',\n",
        "              metrics=['accuracy'])\n",
        "\n",
        "\n",
        "# 5. 모델 훈련\n",
        "model.fit(train_images, train_labels, epochs=5)\n",
        "\n",
        "\n",
        "# 6. 정확도 평가하기\n",
        "loss, accuracy = model.evaluate(test_images, test_labels)\n",
        "print(loss, accuracy)\n",
        "\n",
        "\n",
        "# 7. 예측하기\n",
        "predictions = model.predict(test_images)\n",
        "print(predictions[0])\n",
        "print(np.argmax(predictions[0]))"
      ],
      "metadata": {
        "colab": {
          "base_uri": "https://localhost:8080/"
        },
        "id": "R5IH24ZWTwi6",
        "outputId": "880d3787-2fcc-47e2-8b51-bf7d4968dc21"
      },
      "execution_count": 17,
      "outputs": [
        {
          "output_type": "stream",
          "name": "stdout",
          "text": [
            "Epoch 1/5\n",
            "1875/1875 [==============================] - 11s 6ms/step - loss: 0.4756 - accuracy: 0.8293\n",
            "Epoch 2/5\n",
            "1875/1875 [==============================] - 11s 6ms/step - loss: 0.3599 - accuracy: 0.8687\n",
            "Epoch 3/5\n",
            "1875/1875 [==============================] - 11s 6ms/step - loss: 0.3233 - accuracy: 0.8807\n",
            "Epoch 4/5\n",
            "1875/1875 [==============================] - 10s 5ms/step - loss: 0.2987 - accuracy: 0.8885\n",
            "Epoch 5/5\n",
            "1875/1875 [==============================] - 10s 5ms/step - loss: 0.2803 - accuracy: 0.8959\n",
            "313/313 [==============================] - 1s 3ms/step - loss: 0.3653 - accuracy: 0.8641\n",
            "0.36531054973602295 0.8640999794006348\n",
            "313/313 [==============================] - 1s 3ms/step\n",
            "[2.4060905e-06 2.5926542e-07 2.6306022e-06 9.5388566e-07 8.3631591e-07\n",
            " 2.0378508e-02 4.6403875e-06 1.1685901e-01 8.2735050e-06 8.6274254e-01]\n",
            "9\n"
          ]
        }
      ]
    },
    {
      "cell_type": "code",
      "source": [],
      "metadata": {
        "id": "768vFW2wUQSF"
      },
      "execution_count": null,
      "outputs": []
    }
  ]
}