{
  "nbformat": 4,
  "nbformat_minor": 0,
  "metadata": {
    "colab": {
      "provenance": [],
      "collapsed_sections": [
        "P8T3vJ_HBfNG"
      ],
      "include_colab_link": true
    },
    "kernelspec": {
      "name": "python3",
      "display_name": "Python 3"
    },
    "language_info": {
      "name": "python"
    }
  },
  "cells": [
    {
      "cell_type": "markdown",
      "metadata": {
        "id": "view-in-github",
        "colab_type": "text"
      },
      "source": [
        "<a href=\"https://colab.research.google.com/github/jh941213/DeepLearing/blob/main/6_%EB%AA%A8%EB%8D%B8%EC%84%B8%EC%9D%B4%EB%B9%99.ipynb\" target=\"_parent\"><img src=\"https://colab.research.google.com/assets/colab-badge.svg\" alt=\"Open In Colab\"/></a>"
      ]
    },
    {
      "cell_type": "markdown",
      "source": [
        "# 모델 저장하기"
      ],
      "metadata": {
        "id": "poqX7ELMsvuL"
      }
    },
    {
      "cell_type": "markdown",
      "source": [
        "- 무엇을 저장해야 할까?\n",
        "    - 모델의 구조\n",
        "    - 모델의 weights"
      ],
      "metadata": {
        "id": "_1K_HYgHNjLo"
      }
    },
    {
      "cell_type": "markdown",
      "source": [
        "## 훈련하는 동안 체크포인트 저장하기"
      ],
      "metadata": {
        "id": "SAVf1h3Ysx8y"
      }
    },
    {
      "cell_type": "code",
      "execution_count": null,
      "metadata": {
        "id": "-gm_f3tTsci_"
      },
      "outputs": [],
      "source": [
        "import os\n",
        "\n",
        "import tensorflow as tf\n",
        "from tensorflow import keras"
      ]
    },
    {
      "cell_type": "code",
      "source": [
        "(train_images, train_labels), (test_images, test_labels) = tf.keras.datasets.mnist.load_data()\n",
        "\n",
        "train_labels = train_labels[:1000]\n",
        "test_labels = test_labels[:1000]\n",
        "\n",
        "train_images = train_images[:1000].reshape(-1, 28 * 28) / 255.0\n",
        "test_images = test_images[:1000].reshape(-1, 28 * 28) / 255.0"
      ],
      "metadata": {
        "colab": {
          "base_uri": "https://localhost:8080/"
        },
        "id": "fSFi-SfnsezY",
        "outputId": "546f1e84-2d98-45a9-d68d-2a8e2ee81160"
      },
      "execution_count": null,
      "outputs": [
        {
          "output_type": "stream",
          "name": "stdout",
          "text": [
            "Downloading data from https://storage.googleapis.com/tensorflow/tf-keras-datasets/mnist.npz\n",
            "11493376/11490434 [==============================] - 0s 0us/step\n",
            "11501568/11490434 [==============================] - 0s 0us/step\n"
          ]
        }
      ]
    },
    {
      "cell_type": "code",
      "source": [
        "# 단순한 모델 정의\n",
        "def create_model():\n",
        "    model = tf.keras.models.Sequential([\n",
        "    keras.layers.Dense(512, activation='relu', input_shape=(784,)),\n",
        "    keras.layers.Dropout(0.2),\n",
        "    keras.layers.Dense(10)\n",
        "    ])\n",
        "\n",
        "    model.compile(optimizer='adam',\n",
        "                loss=tf.losses.SparseCategoricalCrossentropy(from_logits=True),\n",
        "                metrics=['accuracy'])\n",
        "\n",
        "    return model"
      ],
      "metadata": {
        "id": "nmrRrtaRsmFA"
      },
      "execution_count": null,
      "outputs": []
    },
    {
      "cell_type": "code",
      "source": [
        "model = create_model()\n",
        "\n",
        "model.summary()"
      ],
      "metadata": {
        "colab": {
          "base_uri": "https://localhost:8080/"
        },
        "id": "ewCb-Ya2siDb",
        "outputId": "f4836b6b-b4cf-4c3e-bc77-cc118ae0c29c"
      },
      "execution_count": null,
      "outputs": [
        {
          "output_type": "stream",
          "name": "stdout",
          "text": [
            "Model: \"sequential\"\n",
            "_________________________________________________________________\n",
            " Layer (type)                Output Shape              Param #   \n",
            "=================================================================\n",
            " dense (Dense)               (None, 512)               401920    \n",
            "                                                                 \n",
            " dropout (Dropout)           (None, 512)               0         \n",
            "                                                                 \n",
            " dense_1 (Dense)             (None, 10)                5130      \n",
            "                                                                 \n",
            "=================================================================\n",
            "Total params: 407,050\n",
            "Trainable params: 407,050\n",
            "Non-trainable params: 0\n",
            "_________________________________________________________________\n"
          ]
        }
      ]
    },
    {
      "cell_type": "markdown",
      "source": [
        "#### 체크포인트 콜백 사용하기"
      ],
      "metadata": {
        "id": "_rvzkr_rsj81"
      }
    },
    {
      "cell_type": "code",
      "source": [
        "# 체크포인트 파일 경로 설정\n",
        "checkpoint_path = \"training_1/cp.ckpt\"  #모델의 웨이트 값을 저장할떄 쓰는 ckpt확장자\n",
        "checkpoint_dir = os.path.dirname(checkpoint_path) # 현재 경로 폴더 반환\n",
        "checkpoint_dir"
      ],
      "metadata": {
        "colab": {
          "base_uri": "https://localhost:8080/",
          "height": 35
        },
        "id": "AFDIYiVfwRpk",
        "outputId": "40e514f5-146f-45e6-b1b4-ec12fd1b5b1a"
      },
      "execution_count": null,
      "outputs": [
        {
          "output_type": "execute_result",
          "data": {
            "text/plain": [
              "'training_1'"
            ],
            "application/vnd.google.colaboratory.intrinsic+json": {
              "type": "string"
            }
          },
          "metadata": {},
          "execution_count": 5
        }
      ]
    },
    {
      "cell_type": "code",
      "source": [
        "# 모델의 가중치를 저장하는 체크포인트 콜백 선언\n",
        "cp_callback = tf.keras.callbacks.ModelCheckpoint(filepath=checkpoint_path,\n",
        "                                                 save_weights_only=True,\n",
        "                                                 verbose=1)\n",
        "\n",
        "model.fit(train_images, \n",
        "          train_labels,  \n",
        "          epochs=10,\n",
        "          validation_data=(test_images,test_labels),\n",
        "          callbacks=[cp_callback])  # 콜백 전달 리스트로 넣으면 된다 ,체크포인트 , 얼리스탑 같이 쓴다"
      ],
      "metadata": {
        "colab": {
          "base_uri": "https://localhost:8080/"
        },
        "id": "NZ91YKxOs3eh",
        "outputId": "d532f906-b97a-4f60-9313-611f497d82ab"
      },
      "execution_count": null,
      "outputs": [
        {
          "output_type": "stream",
          "name": "stdout",
          "text": [
            "Epoch 1/10\n",
            "28/32 [=========================>....] - ETA: 0s - loss: 1.1914 - accuracy: 0.6741\n",
            "Epoch 1: saving model to training_1/cp.ckpt\n",
            "32/32 [==============================] - 1s 17ms/step - loss: 1.1371 - accuracy: 0.6870 - val_loss: 0.7317 - val_accuracy: 0.7590\n",
            "Epoch 2/10\n",
            "28/32 [=========================>....] - ETA: 0s - loss: 0.4244 - accuracy: 0.8772\n",
            "Epoch 2: saving model to training_1/cp.ckpt\n",
            "32/32 [==============================] - 0s 12ms/step - loss: 0.4135 - accuracy: 0.8840 - val_loss: 0.5549 - val_accuracy: 0.8200\n",
            "Epoch 3/10\n",
            "30/32 [===========================>..] - ETA: 0s - loss: 0.2901 - accuracy: 0.9198\n",
            "Epoch 3: saving model to training_1/cp.ckpt\n",
            "32/32 [==============================] - 0s 12ms/step - loss: 0.2847 - accuracy: 0.9220 - val_loss: 0.4998 - val_accuracy: 0.8430\n",
            "Epoch 4/10\n",
            "31/32 [============================>.] - ETA: 0s - loss: 0.2042 - accuracy: 0.9506\n",
            "Epoch 4: saving model to training_1/cp.ckpt\n",
            "32/32 [==============================] - 0s 11ms/step - loss: 0.2042 - accuracy: 0.9500 - val_loss: 0.4350 - val_accuracy: 0.8620\n",
            "Epoch 5/10\n",
            "31/32 [============================>.] - ETA: 0s - loss: 0.1481 - accuracy: 0.9667\n",
            "Epoch 5: saving model to training_1/cp.ckpt\n",
            "32/32 [==============================] - 0s 9ms/step - loss: 0.1472 - accuracy: 0.9670 - val_loss: 0.4389 - val_accuracy: 0.8570\n",
            "Epoch 6/10\n",
            "32/32 [==============================] - ETA: 0s - loss: 0.1200 - accuracy: 0.9730\n",
            "Epoch 6: saving model to training_1/cp.ckpt\n",
            "32/32 [==============================] - 0s 9ms/step - loss: 0.1200 - accuracy: 0.9730 - val_loss: 0.4244 - val_accuracy: 0.8580\n",
            "Epoch 7/10\n",
            "31/32 [============================>.] - ETA: 0s - loss: 0.0895 - accuracy: 0.9879\n",
            "Epoch 7: saving model to training_1/cp.ckpt\n",
            "32/32 [==============================] - 0s 11ms/step - loss: 0.0894 - accuracy: 0.9880 - val_loss: 0.4139 - val_accuracy: 0.8620\n",
            "Epoch 8/10\n",
            "23/32 [====================>.........] - ETA: 0s - loss: 0.0698 - accuracy: 0.9918\n",
            "Epoch 8: saving model to training_1/cp.ckpt\n",
            "32/32 [==============================] - 0s 11ms/step - loss: 0.0673 - accuracy: 0.9900 - val_loss: 0.4386 - val_accuracy: 0.8560\n",
            "Epoch 9/10\n",
            "30/32 [===========================>..] - ETA: 0s - loss: 0.0482 - accuracy: 0.9979\n",
            "Epoch 9: saving model to training_1/cp.ckpt\n",
            "32/32 [==============================] - 0s 12ms/step - loss: 0.0479 - accuracy: 0.9980 - val_loss: 0.4095 - val_accuracy: 0.8660\n",
            "Epoch 10/10\n",
            "28/32 [=========================>....] - ETA: 0s - loss: 0.0426 - accuracy: 0.9989\n",
            "Epoch 10: saving model to training_1/cp.ckpt\n",
            "32/32 [==============================] - 0s 9ms/step - loss: 0.0414 - accuracy: 0.9990 - val_loss: 0.4097 - val_accuracy: 0.8620\n"
          ]
        },
        {
          "output_type": "execute_result",
          "data": {
            "text/plain": [
              "<keras.callbacks.History at 0x7f42ded9f7d0>"
            ]
          },
          "metadata": {},
          "execution_count": 6
        }
      ]
    },
    {
      "cell_type": "code",
      "source": [
        "os.listdir(checkpoint_dir)"
      ],
      "metadata": {
        "colab": {
          "base_uri": "https://localhost:8080/"
        },
        "id": "wIKXk4nCs59H",
        "outputId": "8d2fa274-32e1-4fd7-bcf3-1f84d5024498"
      },
      "execution_count": null,
      "outputs": [
        {
          "output_type": "execute_result",
          "data": {
            "text/plain": [
              "['cp.ckpt.data-00000-of-00001', 'checkpoint', 'cp.ckpt.index']"
            ]
          },
          "metadata": {},
          "execution_count": 7
        }
      ]
    },
    {
      "cell_type": "markdown",
      "source": [
        " 텐서플로 체크포인트 파일을 만들고 에포크가 종료될 때마다 업데이트합니다  \n",
        " - 아키텍처가 동일한 모델 간에는 가중치를 공유 가능 \n",
        " \n",
        " - 그렇다면, 원래 모델과 동일한 아키텍처를 가진 모델을 만든 다음 체크포인트 부여해보자."
      ],
      "metadata": {
        "id": "2FTwGHqftFy3"
      }
    },
    {
      "cell_type": "code",
      "source": [
        "# 동일한 아키텍처를 가진 모델 선언\n",
        "model = create_model()\n",
        "\n",
        "# 체크포인트 주지말고, 한번 평가해보자.\n",
        "loss, acc = model.evaluate(test_images,  test_labels, verbose=2)\n",
        "print(\"훈련되지 않은 모델의 정확도: {:5.2f}%\".format(100*acc))"
      ],
      "metadata": {
        "colab": {
          "base_uri": "https://localhost:8080/"
        },
        "id": "-o4Qycc8tlF3",
        "outputId": "6693c251-aecb-44f6-d8a0-a3a58156bbfb"
      },
      "execution_count": null,
      "outputs": [
        {
          "output_type": "stream",
          "name": "stdout",
          "text": [
            "32/32 - 0s - loss: 2.3697 - accuracy: 0.1250 - 275ms/epoch - 9ms/step\n",
            "훈련되지 않은 모델의 정확도: 12.50%\n"
          ]
        }
      ]
    },
    {
      "cell_type": "markdown",
      "source": [
        "허접하다."
      ],
      "metadata": {
        "id": "omKpiWVst2wq"
      }
    },
    {
      "cell_type": "code",
      "source": [
        "# 체크포인트에서 가중치를 로드하고 평가해보자.\n",
        "model.load_weights(checkpoint_path)\n",
        "\n",
        "loss,acc = model.evaluate(test_images,  test_labels, verbose=2)\n",
        "print(\"복원된 모델의 정확도: {:5.2f}%\".format(100*acc))"
      ],
      "metadata": {
        "colab": {
          "base_uri": "https://localhost:8080/"
        },
        "id": "QQXAD3NLtms8",
        "outputId": "6398cb81-f175-41e8-ced3-9a1c1af42927"
      },
      "execution_count": null,
      "outputs": [
        {
          "output_type": "stream",
          "name": "stdout",
          "text": [
            "32/32 - 0s - loss: 0.4097 - accuracy: 0.8620 - 96ms/epoch - 3ms/step\n",
            "복원된 모델의 정확도: 86.20%\n"
          ]
        }
      ]
    },
    {
      "cell_type": "code",
      "source": [
        "# 파일 이름에 epoch 값 부여 (format 형식)\n",
        "checkpoint_path = \"training_2/cp-{epoch:04d}.ckpt\"\n",
        "checkpoint_dir = os.path.dirname(checkpoint_path)"
      ],
      "metadata": {
        "id": "67at9CsLx0mz"
      },
      "execution_count": null,
      "outputs": []
    },
    {
      "cell_type": "markdown",
      "source": [
        "- 체크포인트 주요 파라미터 "
      ],
      "metadata": {
        "id": "sehW2H6VuBIL"
      }
    },
    {
      "cell_type": "code",
      "source": [
        "cp_callback = tf.keras.callbacks.ModelCheckpoint(\n",
        "    filepath=checkpoint_path, # 고유한 파일이름 부여 가능 \n",
        "    monitor='val_loss', # val_loss값을 기준으로 최저점일때를 기록하고 싶다면 갱신될때만 저장\n",
        "    save_best_only=True, # True를 주면 monitor기준 최고상태 기록\n",
        "    save_weights_only=True, # False면 모델 레이어 및 weight값 모두\n",
        "    # save_freq=5 # 체크포인트 저장하는 에폭주기 설정 가능\n",
        "    )"
      ],
      "metadata": {
        "id": "QWQnjVFvvQSa"
      },
      "execution_count": null,
      "outputs": []
    },
    {
      "cell_type": "code",
      "source": [
        "# 새로운 모델 객체를 만듭니다\n",
        "model = create_model()"
      ],
      "metadata": {
        "id": "LiBazQfxzRhI"
      },
      "execution_count": null,
      "outputs": []
    },
    {
      "cell_type": "code",
      "source": [
        "model.fit(train_images, \n",
        "          train_labels,\n",
        "          epochs=50, \n",
        "          callbacks=[cp_callback], # 체크포인트 부여\n",
        "          validation_data=(test_images,test_labels),\n",
        "          verbose=1)"
      ],
      "metadata": {
        "colab": {
          "base_uri": "https://localhost:8080/"
        },
        "id": "V5FEnim1ueBv",
        "outputId": "a04b57a5-6525-4bc8-fdd9-b89bb72ff194"
      },
      "execution_count": null,
      "outputs": [
        {
          "output_type": "stream",
          "name": "stdout",
          "text": [
            "Epoch 1/50\n",
            "32/32 [==============================] - 1s 13ms/step - loss: 1.1606 - accuracy: 0.6670 - val_loss: 0.6935 - val_accuracy: 0.8060\n",
            "Epoch 2/50\n",
            "32/32 [==============================] - 0s 14ms/step - loss: 0.4233 - accuracy: 0.8930 - val_loss: 0.5568 - val_accuracy: 0.8300\n",
            "Epoch 3/50\n",
            "32/32 [==============================] - 0s 14ms/step - loss: 0.2849 - accuracy: 0.9250 - val_loss: 0.4641 - val_accuracy: 0.8510\n",
            "Epoch 4/50\n",
            "32/32 [==============================] - 0s 15ms/step - loss: 0.2029 - accuracy: 0.9510 - val_loss: 0.5627 - val_accuracy: 0.8310\n",
            "Epoch 5/50\n",
            "32/32 [==============================] - 0s 14ms/step - loss: 0.1633 - accuracy: 0.9630 - val_loss: 0.4946 - val_accuracy: 0.8460\n",
            "Epoch 6/50\n",
            "32/32 [==============================] - 1s 16ms/step - loss: 0.1212 - accuracy: 0.9730 - val_loss: 0.4345 - val_accuracy: 0.8560\n",
            "Epoch 7/50\n",
            "32/32 [==============================] - 0s 15ms/step - loss: 0.0955 - accuracy: 0.9860 - val_loss: 0.4288 - val_accuracy: 0.8540\n",
            "Epoch 8/50\n",
            "32/32 [==============================] - 0s 15ms/step - loss: 0.0696 - accuracy: 0.9900 - val_loss: 0.4243 - val_accuracy: 0.8590\n",
            "Epoch 9/50\n",
            "32/32 [==============================] - 0s 15ms/step - loss: 0.0550 - accuracy: 0.9950 - val_loss: 0.3995 - val_accuracy: 0.8680\n",
            "Epoch 10/50\n",
            "32/32 [==============================] - 0s 15ms/step - loss: 0.0379 - accuracy: 0.9990 - val_loss: 0.4125 - val_accuracy: 0.8650\n",
            "Epoch 11/50\n",
            "32/32 [==============================] - 0s 14ms/step - loss: 0.0346 - accuracy: 0.9980 - val_loss: 0.4329 - val_accuracy: 0.8570\n",
            "Epoch 12/50\n",
            "32/32 [==============================] - 0s 14ms/step - loss: 0.0268 - accuracy: 1.0000 - val_loss: 0.4112 - val_accuracy: 0.8670\n",
            "Epoch 13/50\n",
            "32/32 [==============================] - 0s 15ms/step - loss: 0.0197 - accuracy: 1.0000 - val_loss: 0.4196 - val_accuracy: 0.8750\n",
            "Epoch 14/50\n",
            "32/32 [==============================] - 0s 13ms/step - loss: 0.0180 - accuracy: 1.0000 - val_loss: 0.4154 - val_accuracy: 0.8690\n",
            "Epoch 15/50\n",
            "32/32 [==============================] - 0s 15ms/step - loss: 0.0143 - accuracy: 1.0000 - val_loss: 0.4139 - val_accuracy: 0.8730\n",
            "Epoch 16/50\n",
            "32/32 [==============================] - 1s 16ms/step - loss: 0.0143 - accuracy: 1.0000 - val_loss: 0.4252 - val_accuracy: 0.8770\n",
            "Epoch 17/50\n",
            "32/32 [==============================] - 1s 20ms/step - loss: 0.0117 - accuracy: 1.0000 - val_loss: 0.4336 - val_accuracy: 0.8700\n",
            "Epoch 18/50\n",
            "32/32 [==============================] - 1s 19ms/step - loss: 0.0109 - accuracy: 1.0000 - val_loss: 0.4378 - val_accuracy: 0.8690\n",
            "Epoch 19/50\n",
            "32/32 [==============================] - 0s 9ms/step - loss: 0.0100 - accuracy: 1.0000 - val_loss: 0.4254 - val_accuracy: 0.8650\n",
            "Epoch 20/50\n",
            "32/32 [==============================] - 0s 10ms/step - loss: 0.0080 - accuracy: 1.0000 - val_loss: 0.4282 - val_accuracy: 0.8760\n",
            "Epoch 21/50\n",
            "32/32 [==============================] - 0s 8ms/step - loss: 0.0071 - accuracy: 1.0000 - val_loss: 0.4358 - val_accuracy: 0.8720\n",
            "Epoch 22/50\n",
            "32/32 [==============================] - 0s 11ms/step - loss: 0.0067 - accuracy: 1.0000 - val_loss: 0.4407 - val_accuracy: 0.8670\n",
            "Epoch 23/50\n",
            "32/32 [==============================] - 0s 11ms/step - loss: 0.0063 - accuracy: 1.0000 - val_loss: 0.4496 - val_accuracy: 0.8750\n",
            "Epoch 24/50\n",
            "32/32 [==============================] - 0s 10ms/step - loss: 0.0060 - accuracy: 1.0000 - val_loss: 0.4343 - val_accuracy: 0.8750\n",
            "Epoch 25/50\n",
            "32/32 [==============================] - 0s 8ms/step - loss: 0.0050 - accuracy: 1.0000 - val_loss: 0.4379 - val_accuracy: 0.8800\n",
            "Epoch 26/50\n",
            "32/32 [==============================] - 0s 9ms/step - loss: 0.0046 - accuracy: 1.0000 - val_loss: 0.4436 - val_accuracy: 0.8710\n",
            "Epoch 27/50\n",
            "32/32 [==============================] - 0s 7ms/step - loss: 0.0043 - accuracy: 1.0000 - val_loss: 0.4534 - val_accuracy: 0.8730\n",
            "Epoch 28/50\n",
            "32/32 [==============================] - 0s 10ms/step - loss: 0.0041 - accuracy: 1.0000 - val_loss: 0.4550 - val_accuracy: 0.8710\n",
            "Epoch 29/50\n",
            "32/32 [==============================] - 0s 8ms/step - loss: 0.0035 - accuracy: 1.0000 - val_loss: 0.4550 - val_accuracy: 0.8730\n",
            "Epoch 30/50\n",
            "32/32 [==============================] - 0s 12ms/step - loss: 0.0034 - accuracy: 1.0000 - val_loss: 0.4500 - val_accuracy: 0.8690\n",
            "Epoch 31/50\n",
            "32/32 [==============================] - 0s 15ms/step - loss: 0.0033 - accuracy: 1.0000 - val_loss: 0.4555 - val_accuracy: 0.8750\n",
            "Epoch 32/50\n",
            "32/32 [==============================] - 0s 14ms/step - loss: 0.0033 - accuracy: 1.0000 - val_loss: 0.4540 - val_accuracy: 0.8730\n",
            "Epoch 33/50\n",
            "32/32 [==============================] - 0s 15ms/step - loss: 0.0028 - accuracy: 1.0000 - val_loss: 0.4531 - val_accuracy: 0.8730\n",
            "Epoch 34/50\n",
            "32/32 [==============================] - 0s 13ms/step - loss: 0.0025 - accuracy: 1.0000 - val_loss: 0.4566 - val_accuracy: 0.8750\n",
            "Epoch 35/50\n",
            "32/32 [==============================] - 0s 12ms/step - loss: 0.0026 - accuracy: 1.0000 - val_loss: 0.4539 - val_accuracy: 0.8740\n",
            "Epoch 36/50\n",
            "32/32 [==============================] - 0s 11ms/step - loss: 0.0026 - accuracy: 1.0000 - val_loss: 0.4545 - val_accuracy: 0.8750\n",
            "Epoch 37/50\n",
            "32/32 [==============================] - 0s 8ms/step - loss: 0.0020 - accuracy: 1.0000 - val_loss: 0.4524 - val_accuracy: 0.8710\n",
            "Epoch 38/50\n",
            "32/32 [==============================] - 0s 10ms/step - loss: 0.0020 - accuracy: 1.0000 - val_loss: 0.4590 - val_accuracy: 0.8720\n",
            "Epoch 39/50\n",
            "32/32 [==============================] - 0s 11ms/step - loss: 0.0019 - accuracy: 1.0000 - val_loss: 0.4601 - val_accuracy: 0.8780\n",
            "Epoch 40/50\n",
            "32/32 [==============================] - 0s 8ms/step - loss: 0.0019 - accuracy: 1.0000 - val_loss: 0.4662 - val_accuracy: 0.8790\n",
            "Epoch 41/50\n",
            "32/32 [==============================] - 0s 8ms/step - loss: 0.0019 - accuracy: 1.0000 - val_loss: 0.4596 - val_accuracy: 0.8770\n",
            "Epoch 42/50\n",
            "32/32 [==============================] - 0s 8ms/step - loss: 0.0017 - accuracy: 1.0000 - val_loss: 0.4748 - val_accuracy: 0.8750\n",
            "Epoch 43/50\n",
            "32/32 [==============================] - 0s 11ms/step - loss: 0.0017 - accuracy: 1.0000 - val_loss: 0.4803 - val_accuracy: 0.8730\n",
            "Epoch 44/50\n",
            "32/32 [==============================] - 0s 11ms/step - loss: 0.0015 - accuracy: 1.0000 - val_loss: 0.4833 - val_accuracy: 0.8720\n",
            "Epoch 45/50\n",
            "32/32 [==============================] - 0s 8ms/step - loss: 0.0015 - accuracy: 1.0000 - val_loss: 0.4790 - val_accuracy: 0.8730\n",
            "Epoch 46/50\n",
            "32/32 [==============================] - 0s 8ms/step - loss: 0.0014 - accuracy: 1.0000 - val_loss: 0.4809 - val_accuracy: 0.8770\n",
            "Epoch 47/50\n",
            "32/32 [==============================] - 0s 11ms/step - loss: 0.0014 - accuracy: 1.0000 - val_loss: 0.4869 - val_accuracy: 0.8740\n",
            "Epoch 48/50\n",
            "32/32 [==============================] - 0s 8ms/step - loss: 0.0014 - accuracy: 1.0000 - val_loss: 0.4898 - val_accuracy: 0.8710\n",
            "Epoch 49/50\n",
            "32/32 [==============================] - 0s 11ms/step - loss: 0.0012 - accuracy: 1.0000 - val_loss: 0.4851 - val_accuracy: 0.8720\n",
            "Epoch 50/50\n",
            "32/32 [==============================] - 0s 8ms/step - loss: 0.0011 - accuracy: 1.0000 - val_loss: 0.4886 - val_accuracy: 0.8740\n"
          ]
        },
        {
          "output_type": "execute_result",
          "data": {
            "text/plain": [
              "<keras.callbacks.History at 0x7f42dec27350>"
            ]
          },
          "metadata": {},
          "execution_count": 13
        }
      ]
    },
    {
      "cell_type": "code",
      "source": [
        "# 동일한 아키텍처를 가진 모델 선언\n",
        "model = create_model()\n",
        "\n",
        "# 체크포인트 주지말고, 한번 평가해보자.\n",
        "loss, acc = model.evaluate(test_images,  test_labels, verbose=2)\n",
        "print(\"훈련되지 않은 모델의 정확도: {:5.2f}%\".format(100*acc))"
      ],
      "metadata": {
        "colab": {
          "base_uri": "https://localhost:8080/"
        },
        "id": "0D4pF8CIvlMo",
        "outputId": "5824c828-c88d-4216-945f-10ee607ef9e6"
      },
      "execution_count": null,
      "outputs": [
        {
          "output_type": "stream",
          "name": "stdout",
          "text": [
            "32/32 - 0s - loss: 2.3613 - accuracy: 0.0810 - 386ms/epoch - 12ms/step\n",
            "훈련되지 않은 모델의 정확도:  8.10%\n"
          ]
        }
      ]
    },
    {
      "cell_type": "code",
      "source": [
        "latest = tf.train.latest_checkpoint(checkpoint_dir)\n",
        "latest"
      ],
      "metadata": {
        "colab": {
          "base_uri": "https://localhost:8080/",
          "height": 35
        },
        "id": "S2KOp-f42sR0",
        "outputId": "efe37800-0bb8-4626-df16-4aaca7c30475"
      },
      "execution_count": null,
      "outputs": [
        {
          "output_type": "execute_result",
          "data": {
            "text/plain": [
              "'training_2/cp-0009.ckpt'"
            ],
            "application/vnd.google.colaboratory.intrinsic+json": {
              "type": "string"
            }
          },
          "metadata": {},
          "execution_count": 15
        }
      ]
    },
    {
      "cell_type": "code",
      "source": [
        "model.load_weights(latest)\n",
        "\n",
        "# 체크포인트 주지말고, 한번 평가해보자.\n",
        "loss, acc = model.evaluate(test_images,  test_labels, verbose=2)\n",
        "print(\"훈련되지 않은 모델의 정확도: {:5.2f}%\".format(100*acc))"
      ],
      "metadata": {
        "colab": {
          "base_uri": "https://localhost:8080/"
        },
        "id": "UO7HINNk18bl",
        "outputId": "be2e76bb-c05a-4a20-aa93-6e30ea486859"
      },
      "execution_count": null,
      "outputs": [
        {
          "output_type": "stream",
          "name": "stdout",
          "text": [
            "32/32 - 0s - loss: 0.3995 - accuracy: 0.8680 - 91ms/epoch - 3ms/step\n",
            "훈련되지 않은 모델의 정확도: 86.80%\n"
          ]
        }
      ]
    },
    {
      "cell_type": "code",
      "source": [
        "### mytraining1 폴더에 저장\n",
        "### best only로 저장, 최종 값만 저장되도록\n",
        "### weight값만\n",
        "checkpoint_path = \"mytraining1/cp.ckpt\"\n",
        "\n",
        "cp_callback = tf.keras.callbacks.ModelCheckpoint(\n",
        "    filepath=checkpoint_path, # 고유한 파일이름 부여 가능 \n",
        "    monitor='val_loss', # val_loss값을 기준으로 최저점일때를 기록하고 싶다면\n",
        "    save_best_only=True, # True를 주면 monitor기준 최고상태 기록\n",
        "    save_weights_only=True, # False면 모델 레이어 및 weight값 모두\n",
        "    # save_freq=5 # 체크포인트 저장하는 에폭주기 설정 가능\n",
        "    )\n",
        "\n",
        "model = create_model()\n",
        "\n",
        "model.fit(train_images, \n",
        "          train_labels,\n",
        "          epochs=50, \n",
        "          callbacks=[cp_callback], # 체크포인트 부여\n",
        "          validation_data=(test_images,test_labels),\n",
        "          verbose=1)"
      ],
      "metadata": {
        "colab": {
          "base_uri": "https://localhost:8080/"
        },
        "id": "0P_9vwqIsgbH",
        "outputId": "c48fce20-9d91-4e3b-84cd-02f7cac3cc46"
      },
      "execution_count": null,
      "outputs": [
        {
          "output_type": "stream",
          "name": "stdout",
          "text": [
            "Epoch 1/50\n",
            "32/32 [==============================] - 1s 15ms/step - loss: 1.1337 - accuracy: 0.6910 - val_loss: 0.7003 - val_accuracy: 0.7880\n",
            "Epoch 2/50\n",
            "32/32 [==============================] - 0s 8ms/step - loss: 0.4031 - accuracy: 0.8930 - val_loss: 0.5136 - val_accuracy: 0.8450\n",
            "Epoch 3/50\n",
            "32/32 [==============================] - 0s 10ms/step - loss: 0.2916 - accuracy: 0.9310 - val_loss: 0.4707 - val_accuracy: 0.8580\n",
            "Epoch 4/50\n",
            "32/32 [==============================] - 0s 11ms/step - loss: 0.2038 - accuracy: 0.9460 - val_loss: 0.4480 - val_accuracy: 0.8590\n",
            "Epoch 5/50\n",
            "32/32 [==============================] - 0s 9ms/step - loss: 0.1650 - accuracy: 0.9660 - val_loss: 0.4194 - val_accuracy: 0.8650\n",
            "Epoch 6/50\n",
            "32/32 [==============================] - 0s 9ms/step - loss: 0.1200 - accuracy: 0.9780 - val_loss: 0.4026 - val_accuracy: 0.8740\n",
            "Epoch 7/50\n",
            "32/32 [==============================] - 0s 11ms/step - loss: 0.0901 - accuracy: 0.9840 - val_loss: 0.4327 - val_accuracy: 0.8630\n",
            "Epoch 8/50\n",
            "32/32 [==============================] - 0s 11ms/step - loss: 0.0676 - accuracy: 0.9900 - val_loss: 0.4233 - val_accuracy: 0.8650\n",
            "Epoch 9/50\n",
            "32/32 [==============================] - 0s 8ms/step - loss: 0.0488 - accuracy: 0.9980 - val_loss: 0.4045 - val_accuracy: 0.8680\n",
            "Epoch 10/50\n",
            "32/32 [==============================] - 0s 11ms/step - loss: 0.0396 - accuracy: 0.9990 - val_loss: 0.4142 - val_accuracy: 0.8680\n",
            "Epoch 11/50\n",
            "32/32 [==============================] - 0s 11ms/step - loss: 0.0339 - accuracy: 0.9970 - val_loss: 0.4241 - val_accuracy: 0.8700\n",
            "Epoch 12/50\n",
            "32/32 [==============================] - 0s 12ms/step - loss: 0.0255 - accuracy: 1.0000 - val_loss: 0.3865 - val_accuracy: 0.8770\n",
            "Epoch 13/50\n",
            "32/32 [==============================] - 0s 8ms/step - loss: 0.0212 - accuracy: 1.0000 - val_loss: 0.4105 - val_accuracy: 0.8670\n",
            "Epoch 14/50\n",
            "32/32 [==============================] - 0s 8ms/step - loss: 0.0184 - accuracy: 1.0000 - val_loss: 0.4150 - val_accuracy: 0.8720\n",
            "Epoch 15/50\n",
            "32/32 [==============================] - 0s 10ms/step - loss: 0.0142 - accuracy: 1.0000 - val_loss: 0.4209 - val_accuracy: 0.8720\n",
            "Epoch 16/50\n",
            "32/32 [==============================] - 0s 10ms/step - loss: 0.0128 - accuracy: 1.0000 - val_loss: 0.4103 - val_accuracy: 0.8740\n",
            "Epoch 17/50\n",
            "32/32 [==============================] - 0s 9ms/step - loss: 0.0113 - accuracy: 1.0000 - val_loss: 0.4303 - val_accuracy: 0.8720\n",
            "Epoch 18/50\n",
            "32/32 [==============================] - 0s 11ms/step - loss: 0.0093 - accuracy: 1.0000 - val_loss: 0.4210 - val_accuracy: 0.8740\n",
            "Epoch 19/50\n",
            "32/32 [==============================] - 0s 9ms/step - loss: 0.0102 - accuracy: 0.9990 - val_loss: 0.4299 - val_accuracy: 0.8720\n",
            "Epoch 20/50\n",
            "32/32 [==============================] - 0s 9ms/step - loss: 0.0090 - accuracy: 1.0000 - val_loss: 0.4399 - val_accuracy: 0.8730\n",
            "Epoch 21/50\n",
            "32/32 [==============================] - 0s 11ms/step - loss: 0.0071 - accuracy: 1.0000 - val_loss: 0.4435 - val_accuracy: 0.8750\n",
            "Epoch 22/50\n",
            "32/32 [==============================] - 0s 8ms/step - loss: 0.0068 - accuracy: 1.0000 - val_loss: 0.4361 - val_accuracy: 0.8750\n",
            "Epoch 23/50\n",
            "32/32 [==============================] - 0s 11ms/step - loss: 0.0068 - accuracy: 1.0000 - val_loss: 0.4229 - val_accuracy: 0.8820\n",
            "Epoch 24/50\n",
            "32/32 [==============================] - 0s 10ms/step - loss: 0.0058 - accuracy: 1.0000 - val_loss: 0.4601 - val_accuracy: 0.8690\n",
            "Epoch 25/50\n",
            "32/32 [==============================] - 0s 8ms/step - loss: 0.0055 - accuracy: 1.0000 - val_loss: 0.4298 - val_accuracy: 0.8730\n",
            "Epoch 26/50\n",
            "32/32 [==============================] - 0s 11ms/step - loss: 0.0042 - accuracy: 1.0000 - val_loss: 0.4427 - val_accuracy: 0.8720\n",
            "Epoch 27/50\n",
            "32/32 [==============================] - 0s 11ms/step - loss: 0.0041 - accuracy: 1.0000 - val_loss: 0.4376 - val_accuracy: 0.8770\n",
            "Epoch 28/50\n",
            "32/32 [==============================] - 0s 11ms/step - loss: 0.0035 - accuracy: 1.0000 - val_loss: 0.4480 - val_accuracy: 0.8750\n",
            "Epoch 29/50\n",
            "32/32 [==============================] - 0s 11ms/step - loss: 0.0038 - accuracy: 1.0000 - val_loss: 0.4533 - val_accuracy: 0.8730\n",
            "Epoch 30/50\n",
            "32/32 [==============================] - 0s 8ms/step - loss: 0.0034 - accuracy: 1.0000 - val_loss: 0.4570 - val_accuracy: 0.8730\n",
            "Epoch 31/50\n",
            "32/32 [==============================] - 0s 8ms/step - loss: 0.0030 - accuracy: 1.0000 - val_loss: 0.4579 - val_accuracy: 0.8780\n",
            "Epoch 32/50\n",
            "32/32 [==============================] - 0s 8ms/step - loss: 0.0028 - accuracy: 1.0000 - val_loss: 0.4587 - val_accuracy: 0.8760\n",
            "Epoch 33/50\n",
            "32/32 [==============================] - 0s 8ms/step - loss: 0.0028 - accuracy: 1.0000 - val_loss: 0.4534 - val_accuracy: 0.8760\n",
            "Epoch 34/50\n",
            "32/32 [==============================] - 0s 8ms/step - loss: 0.0026 - accuracy: 1.0000 - val_loss: 0.4627 - val_accuracy: 0.8760\n",
            "Epoch 35/50\n",
            "32/32 [==============================] - 0s 10ms/step - loss: 0.0024 - accuracy: 1.0000 - val_loss: 0.4604 - val_accuracy: 0.8740\n",
            "Epoch 36/50\n",
            "32/32 [==============================] - 0s 9ms/step - loss: 0.0022 - accuracy: 1.0000 - val_loss: 0.4690 - val_accuracy: 0.8710\n",
            "Epoch 37/50\n",
            "32/32 [==============================] - 0s 8ms/step - loss: 0.0018 - accuracy: 1.0000 - val_loss: 0.4668 - val_accuracy: 0.8730\n",
            "Epoch 38/50\n",
            "32/32 [==============================] - 0s 8ms/step - loss: 0.0019 - accuracy: 1.0000 - val_loss: 0.4692 - val_accuracy: 0.8730\n",
            "Epoch 39/50\n",
            "32/32 [==============================] - 0s 10ms/step - loss: 0.0020 - accuracy: 1.0000 - val_loss: 0.4675 - val_accuracy: 0.8720\n",
            "Epoch 40/50\n",
            "32/32 [==============================] - 0s 10ms/step - loss: 0.0018 - accuracy: 1.0000 - val_loss: 0.4743 - val_accuracy: 0.8760\n",
            "Epoch 41/50\n",
            "32/32 [==============================] - 0s 7ms/step - loss: 0.0019 - accuracy: 1.0000 - val_loss: 0.4714 - val_accuracy: 0.8750\n",
            "Epoch 42/50\n",
            "32/32 [==============================] - 0s 10ms/step - loss: 0.0016 - accuracy: 1.0000 - val_loss: 0.4814 - val_accuracy: 0.8750\n",
            "Epoch 43/50\n",
            "32/32 [==============================] - 0s 10ms/step - loss: 0.0016 - accuracy: 1.0000 - val_loss: 0.4784 - val_accuracy: 0.8730\n",
            "Epoch 44/50\n",
            "32/32 [==============================] - 0s 11ms/step - loss: 0.0015 - accuracy: 1.0000 - val_loss: 0.4838 - val_accuracy: 0.8690\n",
            "Epoch 45/50\n",
            "32/32 [==============================] - 0s 10ms/step - loss: 0.0013 - accuracy: 1.0000 - val_loss: 0.4949 - val_accuracy: 0.8710\n",
            "Epoch 46/50\n",
            "32/32 [==============================] - 0s 11ms/step - loss: 0.0016 - accuracy: 1.0000 - val_loss: 0.4849 - val_accuracy: 0.8730\n",
            "Epoch 47/50\n",
            "32/32 [==============================] - 0s 11ms/step - loss: 0.0014 - accuracy: 1.0000 - val_loss: 0.4880 - val_accuracy: 0.8770\n",
            "Epoch 48/50\n",
            "32/32 [==============================] - 0s 10ms/step - loss: 0.0012 - accuracy: 1.0000 - val_loss: 0.4828 - val_accuracy: 0.8730\n",
            "Epoch 49/50\n",
            "32/32 [==============================] - 0s 8ms/step - loss: 0.0011 - accuracy: 1.0000 - val_loss: 0.4906 - val_accuracy: 0.8750\n",
            "Epoch 50/50\n",
            "32/32 [==============================] - 0s 11ms/step - loss: 0.0011 - accuracy: 1.0000 - val_loss: 0.4935 - val_accuracy: 0.8770\n"
          ]
        },
        {
          "output_type": "execute_result",
          "data": {
            "text/plain": [
              "<keras.callbacks.History at 0x7f42dea8a950>"
            ]
          },
          "metadata": {},
          "execution_count": 17
        }
      ]
    },
    {
      "cell_type": "code",
      "source": [
        "model.load_weights(checkpoint_path)\n",
        "\n",
        "model.evaluate(test_images,  test_labels, verbose=2)"
      ],
      "metadata": {
        "colab": {
          "base_uri": "https://localhost:8080/"
        },
        "id": "CyBBoZ_Xuyuu",
        "outputId": "566bcb06-918c-4bab-bc18-43a34afcd649"
      },
      "execution_count": null,
      "outputs": [
        {
          "output_type": "stream",
          "name": "stdout",
          "text": [
            "32/32 - 0s - loss: 0.3865 - accuracy: 0.8770 - 90ms/epoch - 3ms/step\n"
          ]
        },
        {
          "output_type": "execute_result",
          "data": {
            "text/plain": [
              "[0.38650035858154297, 0.8769999742507935]"
            ]
          },
          "metadata": {},
          "execution_count": 18
        }
      ]
    },
    {
      "cell_type": "code",
      "source": [
        "tf.keras.callbacks.ModelCheckpoint?"
      ],
      "metadata": {
        "id": "pEu8Y-brvnyN"
      },
      "execution_count": null,
      "outputs": []
    },
    {
      "cell_type": "code",
      "source": [
        "### mytraining2 폴더에 저장\n",
        "### 5epoch마다 저장. \n",
        "### weight값만 \n",
        "#04d는 4자리만 잡고 숫자를 올려준다\n",
        "checkpoint_path = \"mytraining3/cp-{epoch:04d}.ckpt\"\n",
        "\n",
        "cp_callback = tf.keras.callbacks.ModelCheckpoint(\n",
        "    filepath=checkpoint_path, # 고유한 파일이름 부여 가능 \n",
        "    monitor='val_loss', # val_loss값을 기준으로 최저점일때를 기록하고 싶다면\n",
        "    save_best_only=False, # True를 주면 monitor기준 최고상태 기록\n",
        "    save_weights_only=True, # False면 모델 레이어 및 weight값 모두\n",
        "    period=5, # 체크포인트 저장하는 에폭주기 설정 가능\n",
        "    save_freq='epoch' # epoch의 끝에서 저장할지 여부\n",
        "    )"
      ],
      "metadata": {
        "colab": {
          "base_uri": "https://localhost:8080/"
        },
        "id": "qco8iqBxwVts",
        "outputId": "173312bc-7534-4e6b-8495-aaa6a91e1609"
      },
      "execution_count": null,
      "outputs": [
        {
          "output_type": "stream",
          "name": "stderr",
          "text": [
            "WARNING:tensorflow:`period` argument is deprecated. Please use `save_freq` to specify the frequency in number of batches seen.\n"
          ]
        }
      ]
    },
    {
      "cell_type": "code",
      "source": [
        "model = create_model()\n",
        "\n",
        "model.fit(train_images, \n",
        "          train_labels,\n",
        "          epochs=50, \n",
        "          callbacks=[cp_callback], # 체크포인트 부여\n",
        "          validation_data=(test_images,test_labels),\n",
        "          verbose=1)"
      ],
      "metadata": {
        "colab": {
          "base_uri": "https://localhost:8080/"
        },
        "id": "z_zzCwHNsHlA",
        "outputId": "005bfa36-bfac-488d-95f5-57d59d414cda"
      },
      "execution_count": null,
      "outputs": [
        {
          "output_type": "stream",
          "name": "stdout",
          "text": [
            "Epoch 1/50\n",
            "32/32 [==============================] - 1s 14ms/step - loss: 1.1593 - accuracy: 0.6600 - val_loss: 0.6875 - val_accuracy: 0.7960\n",
            "Epoch 2/50\n",
            "32/32 [==============================] - 0s 10ms/step - loss: 0.4204 - accuracy: 0.8860 - val_loss: 0.5142 - val_accuracy: 0.8360\n",
            "Epoch 3/50\n",
            "32/32 [==============================] - 0s 9ms/step - loss: 0.2754 - accuracy: 0.9250 - val_loss: 0.4456 - val_accuracy: 0.8680\n",
            "Epoch 4/50\n",
            "32/32 [==============================] - 0s 8ms/step - loss: 0.2081 - accuracy: 0.9450 - val_loss: 0.4610 - val_accuracy: 0.8470\n",
            "Epoch 5/50\n",
            "32/32 [==============================] - 0s 11ms/step - loss: 0.1539 - accuracy: 0.9690 - val_loss: 0.4447 - val_accuracy: 0.8570\n",
            "Epoch 6/50\n",
            "32/32 [==============================] - 0s 11ms/step - loss: 0.1116 - accuracy: 0.9820 - val_loss: 0.4309 - val_accuracy: 0.8570\n",
            "Epoch 7/50\n",
            "32/32 [==============================] - 0s 8ms/step - loss: 0.0795 - accuracy: 0.9920 - val_loss: 0.4047 - val_accuracy: 0.8670\n",
            "Epoch 8/50\n",
            "32/32 [==============================] - 0s 11ms/step - loss: 0.0685 - accuracy: 0.9900 - val_loss: 0.4164 - val_accuracy: 0.8620\n",
            "Epoch 9/50\n",
            "32/32 [==============================] - 0s 8ms/step - loss: 0.0561 - accuracy: 0.9920 - val_loss: 0.3997 - val_accuracy: 0.8760\n",
            "Epoch 10/50\n",
            "32/32 [==============================] - 0s 11ms/step - loss: 0.0367 - accuracy: 0.9990 - val_loss: 0.3988 - val_accuracy: 0.8710\n",
            "Epoch 11/50\n",
            "32/32 [==============================] - 0s 9ms/step - loss: 0.0332 - accuracy: 0.9980 - val_loss: 0.4086 - val_accuracy: 0.8680\n",
            "Epoch 12/50\n",
            "32/32 [==============================] - 0s 11ms/step - loss: 0.0278 - accuracy: 0.9980 - val_loss: 0.4480 - val_accuracy: 0.8640\n",
            "Epoch 13/50\n",
            "32/32 [==============================] - 0s 9ms/step - loss: 0.0236 - accuracy: 0.9980 - val_loss: 0.4224 - val_accuracy: 0.8680\n",
            "Epoch 14/50\n",
            "32/32 [==============================] - 0s 8ms/step - loss: 0.0199 - accuracy: 0.9990 - val_loss: 0.4123 - val_accuracy: 0.8760\n",
            "Epoch 15/50\n",
            "32/32 [==============================] - 0s 8ms/step - loss: 0.0142 - accuracy: 1.0000 - val_loss: 0.4054 - val_accuracy: 0.8780\n",
            "Epoch 16/50\n",
            "32/32 [==============================] - 0s 9ms/step - loss: 0.0131 - accuracy: 1.0000 - val_loss: 0.4202 - val_accuracy: 0.8780\n",
            "Epoch 17/50\n",
            "32/32 [==============================] - 0s 8ms/step - loss: 0.0112 - accuracy: 1.0000 - val_loss: 0.4067 - val_accuracy: 0.8780\n",
            "Epoch 18/50\n",
            "32/32 [==============================] - 0s 11ms/step - loss: 0.0097 - accuracy: 1.0000 - val_loss: 0.4221 - val_accuracy: 0.8760\n",
            "Epoch 19/50\n",
            "32/32 [==============================] - 0s 10ms/step - loss: 0.0088 - accuracy: 1.0000 - val_loss: 0.4236 - val_accuracy: 0.8750\n",
            "Epoch 20/50\n",
            "32/32 [==============================] - 0s 9ms/step - loss: 0.0078 - accuracy: 1.0000 - val_loss: 0.4184 - val_accuracy: 0.8790\n",
            "Epoch 21/50\n",
            "32/32 [==============================] - 0s 10ms/step - loss: 0.0064 - accuracy: 1.0000 - val_loss: 0.4226 - val_accuracy: 0.8780\n",
            "Epoch 22/50\n",
            "32/32 [==============================] - 0s 10ms/step - loss: 0.0064 - accuracy: 1.0000 - val_loss: 0.4260 - val_accuracy: 0.8800\n",
            "Epoch 23/50\n",
            "32/32 [==============================] - 0s 8ms/step - loss: 0.0059 - accuracy: 1.0000 - val_loss: 0.4309 - val_accuracy: 0.8780\n",
            "Epoch 24/50\n",
            "32/32 [==============================] - 0s 7ms/step - loss: 0.0048 - accuracy: 1.0000 - val_loss: 0.4357 - val_accuracy: 0.8760\n",
            "Epoch 25/50\n",
            "32/32 [==============================] - 0s 11ms/step - loss: 0.0046 - accuracy: 1.0000 - val_loss: 0.4405 - val_accuracy: 0.8750\n",
            "Epoch 26/50\n",
            "32/32 [==============================] - 0s 8ms/step - loss: 0.0043 - accuracy: 1.0000 - val_loss: 0.4370 - val_accuracy: 0.8790\n",
            "Epoch 27/50\n",
            "32/32 [==============================] - 0s 8ms/step - loss: 0.0040 - accuracy: 1.0000 - val_loss: 0.4343 - val_accuracy: 0.8790\n",
            "Epoch 28/50\n",
            "32/32 [==============================] - 0s 7ms/step - loss: 0.0035 - accuracy: 1.0000 - val_loss: 0.4496 - val_accuracy: 0.8770\n",
            "Epoch 29/50\n",
            "32/32 [==============================] - 0s 8ms/step - loss: 0.0033 - accuracy: 1.0000 - val_loss: 0.4393 - val_accuracy: 0.8790\n",
            "Epoch 30/50\n",
            "32/32 [==============================] - 0s 11ms/step - loss: 0.0032 - accuracy: 1.0000 - val_loss: 0.4422 - val_accuracy: 0.8760\n",
            "Epoch 31/50\n",
            "32/32 [==============================] - 0s 11ms/step - loss: 0.0034 - accuracy: 1.0000 - val_loss: 0.4495 - val_accuracy: 0.8750\n",
            "Epoch 32/50\n",
            "32/32 [==============================] - 0s 8ms/step - loss: 0.0028 - accuracy: 1.0000 - val_loss: 0.4469 - val_accuracy: 0.8790\n",
            "Epoch 33/50\n",
            "32/32 [==============================] - 0s 7ms/step - loss: 0.0025 - accuracy: 1.0000 - val_loss: 0.4528 - val_accuracy: 0.8750\n",
            "Epoch 34/50\n",
            "32/32 [==============================] - 0s 10ms/step - loss: 0.0023 - accuracy: 1.0000 - val_loss: 0.4491 - val_accuracy: 0.8790\n",
            "Epoch 35/50\n",
            "32/32 [==============================] - 0s 11ms/step - loss: 0.0023 - accuracy: 1.0000 - val_loss: 0.4560 - val_accuracy: 0.8800\n",
            "Epoch 36/50\n",
            "32/32 [==============================] - 0s 8ms/step - loss: 0.0021 - accuracy: 1.0000 - val_loss: 0.4588 - val_accuracy: 0.8750\n",
            "Epoch 37/50\n",
            "32/32 [==============================] - 0s 8ms/step - loss: 0.0021 - accuracy: 1.0000 - val_loss: 0.4601 - val_accuracy: 0.8750\n",
            "Epoch 38/50\n",
            "32/32 [==============================] - 0s 8ms/step - loss: 0.0023 - accuracy: 1.0000 - val_loss: 0.4506 - val_accuracy: 0.8800\n",
            "Epoch 39/50\n",
            "32/32 [==============================] - 0s 8ms/step - loss: 0.0019 - accuracy: 1.0000 - val_loss: 0.4531 - val_accuracy: 0.8800\n",
            "Epoch 40/50\n",
            "32/32 [==============================] - 0s 11ms/step - loss: 0.0016 - accuracy: 1.0000 - val_loss: 0.4551 - val_accuracy: 0.8820\n",
            "Epoch 41/50\n",
            "32/32 [==============================] - 0s 11ms/step - loss: 0.0017 - accuracy: 1.0000 - val_loss: 0.4600 - val_accuracy: 0.8790\n",
            "Epoch 42/50\n",
            "32/32 [==============================] - 0s 11ms/step - loss: 0.0014 - accuracy: 1.0000 - val_loss: 0.4637 - val_accuracy: 0.8800\n",
            "Epoch 43/50\n",
            "32/32 [==============================] - 0s 8ms/step - loss: 0.0020 - accuracy: 1.0000 - val_loss: 0.4641 - val_accuracy: 0.8780\n",
            "Epoch 44/50\n",
            "32/32 [==============================] - 0s 8ms/step - loss: 0.0016 - accuracy: 1.0000 - val_loss: 0.4615 - val_accuracy: 0.8820\n",
            "Epoch 45/50\n",
            "32/32 [==============================] - 0s 9ms/step - loss: 0.0012 - accuracy: 1.0000 - val_loss: 0.4652 - val_accuracy: 0.8800\n",
            "Epoch 46/50\n",
            "32/32 [==============================] - 0s 11ms/step - loss: 0.0012 - accuracy: 1.0000 - val_loss: 0.4712 - val_accuracy: 0.8810\n",
            "Epoch 47/50\n",
            "32/32 [==============================] - 0s 11ms/step - loss: 0.0014 - accuracy: 1.0000 - val_loss: 0.4658 - val_accuracy: 0.8830\n",
            "Epoch 48/50\n",
            "32/32 [==============================] - 0s 11ms/step - loss: 0.0013 - accuracy: 1.0000 - val_loss: 0.4846 - val_accuracy: 0.8810\n",
            "Epoch 49/50\n",
            "32/32 [==============================] - 0s 8ms/step - loss: 0.0014 - accuracy: 1.0000 - val_loss: 0.4932 - val_accuracy: 0.8730\n",
            "Epoch 50/50\n",
            "32/32 [==============================] - 0s 9ms/step - loss: 0.0012 - accuracy: 1.0000 - val_loss: 0.4799 - val_accuracy: 0.8770\n"
          ]
        },
        {
          "output_type": "execute_result",
          "data": {
            "text/plain": [
              "<keras.callbacks.History at 0x7f42de9b0790>"
            ]
          },
          "metadata": {},
          "execution_count": 21
        }
      ]
    },
    {
      "cell_type": "markdown",
      "source": [
        "### early stopping & 체크포인트 같이 사용하기"
      ],
      "metadata": {
        "id": "pdKFfxPX2DZf"
      }
    },
    {
      "cell_type": "code",
      "source": [
        "checkpoint_path = \"training_3/cp-{epoch:04d}.ckpt\"\n",
        "checkpoint_dir = os.path.dirname(checkpoint_path)"
      ],
      "metadata": {
        "id": "MYDtK6Qi5Z4j"
      },
      "execution_count": null,
      "outputs": []
    },
    {
      "cell_type": "code",
      "source": [
        "cp_callback = tf.keras.callbacks.ModelCheckpoint(\n",
        "    filepath=checkpoint_path, # 고유한 파일이름 부여 가능 \n",
        "    monitor='val_loss', # val_loss값을 기준으로 최저점일때를 기록하고 싶다면\n",
        "    save_best_only=True, # True를 주면 monitor기준 최고상태 기록\n",
        "    save_weights_only=True, # False면 모델 레이어 및 weight값 모두\n",
        "    # save_freq=5 # 체크포인트 저장하는 에폭주기 설정 가능\n",
        "    )"
      ],
      "metadata": {
        "id": "jl_k3iQi5l35"
      },
      "execution_count": null,
      "outputs": []
    },
    {
      "cell_type": "code",
      "source": [
        "early = tf.keras.callbacks.EarlyStopping(monitor='val_loss', patience=3)"
      ],
      "metadata": {
        "id": "Zlr-Zu2T5oLF"
      },
      "execution_count": null,
      "outputs": []
    },
    {
      "cell_type": "code",
      "source": [
        "# 새로운 모델 객체를 만듭니다\n",
        "model = create_model()"
      ],
      "metadata": {
        "id": "WRmvVx4G5r47"
      },
      "execution_count": null,
      "outputs": []
    },
    {
      "cell_type": "code",
      "source": [
        "model.fit(train_images, \n",
        "          train_labels,\n",
        "          epochs=100, \n",
        "          callbacks=[cp_callback, early], # 체크포인트 부여, early stopping\n",
        "          validation_data=(test_images,test_labels),\n",
        "          verbose=1)"
      ],
      "metadata": {
        "colab": {
          "base_uri": "https://localhost:8080/"
        },
        "outputId": "00c0647e-b57c-4eec-ac9c-e96c8e045f66",
        "id": "U4mNi3Wz5r48"
      },
      "execution_count": null,
      "outputs": [
        {
          "output_type": "stream",
          "name": "stdout",
          "text": [
            "Epoch 1/100\n",
            "32/32 [==============================] - 1s 13ms/step - loss: 1.1654 - accuracy: 0.6800 - val_loss: 0.7329 - val_accuracy: 0.7860\n",
            "Epoch 2/100\n",
            "32/32 [==============================] - 0s 11ms/step - loss: 0.4138 - accuracy: 0.8850 - val_loss: 0.5519 - val_accuracy: 0.8290\n",
            "Epoch 3/100\n",
            "32/32 [==============================] - 0s 11ms/step - loss: 0.2959 - accuracy: 0.9140 - val_loss: 0.4863 - val_accuracy: 0.8470\n",
            "Epoch 4/100\n",
            "32/32 [==============================] - 0s 11ms/step - loss: 0.1982 - accuracy: 0.9550 - val_loss: 0.4249 - val_accuracy: 0.8620\n",
            "Epoch 5/100\n",
            "32/32 [==============================] - 0s 8ms/step - loss: 0.1531 - accuracy: 0.9700 - val_loss: 0.4279 - val_accuracy: 0.8570\n",
            "Epoch 6/100\n",
            "32/32 [==============================] - 0s 9ms/step - loss: 0.1125 - accuracy: 0.9790 - val_loss: 0.4098 - val_accuracy: 0.8680\n",
            "Epoch 7/100\n",
            "32/32 [==============================] - 0s 11ms/step - loss: 0.0968 - accuracy: 0.9820 - val_loss: 0.4209 - val_accuracy: 0.8570\n",
            "Epoch 8/100\n",
            "32/32 [==============================] - 0s 8ms/step - loss: 0.0676 - accuracy: 0.9920 - val_loss: 0.4003 - val_accuracy: 0.8740\n",
            "Epoch 9/100\n",
            "32/32 [==============================] - 0s 9ms/step - loss: 0.0527 - accuracy: 0.9950 - val_loss: 0.4143 - val_accuracy: 0.8660\n",
            "Epoch 10/100\n",
            "32/32 [==============================] - 0s 11ms/step - loss: 0.0337 - accuracy: 1.0000 - val_loss: 0.4146 - val_accuracy: 0.8690\n",
            "Epoch 11/100\n",
            "32/32 [==============================] - 0s 11ms/step - loss: 0.0311 - accuracy: 1.0000 - val_loss: 0.4118 - val_accuracy: 0.8750\n"
          ]
        },
        {
          "output_type": "execute_result",
          "data": {
            "text/plain": [
              "<keras.callbacks.History at 0x7f42de809310>"
            ]
          },
          "metadata": {},
          "execution_count": 26
        }
      ]
    },
    {
      "cell_type": "markdown",
      "source": [
        "### 직접 가중치 체크포인트 저장"
      ],
      "metadata": {
        "id": "ijoeKL1w7jB3"
      }
    },
    {
      "cell_type": "code",
      "source": [
        "# 가중치 저장\n",
        "model.save_weights('./checkpoints/my_checkpoint.ckpt')\n",
        "\n",
        "model = create_model()\n",
        "\n",
        "# 가중치 복원\n",
        "model.load_weights('./checkpoints/my_checkpoint.ckpt')\n",
        "\n",
        "loss,acc = model.evaluate(test_images,  test_labels, verbose=2)\n",
        "print(\"복원된 모델의 정확도: {:5.2f}%\".format(100*acc))"
      ],
      "metadata": {
        "colab": {
          "base_uri": "https://localhost:8080/"
        },
        "id": "3Vo4lRjE6q9b",
        "outputId": "b29f09ba-bf95-4e71-ef8a-7e9c4a322f9a"
      },
      "execution_count": null,
      "outputs": [
        {
          "output_type": "stream",
          "name": "stdout",
          "text": [
            "32/32 - 0s - loss: 0.4118 - accuracy: 0.8750 - 258ms/epoch - 8ms/step\n",
            "복원된 모델의 정확도: 87.50%\n"
          ]
        }
      ]
    },
    {
      "cell_type": "markdown",
      "source": [
        "## 전체 모델 저장(모델레이어와 함께 저장) \n",
        "1) save_weights_only=False 로 변경  \n",
        "2) 직접 model.save() : SavedModel(pb)  \n",
        "3) HDF5 파일로 저장하기"
      ],
      "metadata": {
        "id": "l7yx7TaK73JY"
      }
    },
    {
      "cell_type": "markdown",
      "source": [
        "### save_weights_only=False 로 변경"
      ],
      "metadata": {
        "id": "zKJCiX0hCFFt"
      }
    },
    {
      "cell_type": "code",
      "source": [
        "checkpoint_path = \"training_4/cp-{epoch:04d}.ckpt\"\n",
        "checkpoint_dir = os.path.dirname(checkpoint_path)"
      ],
      "metadata": {
        "id": "1AqMFmqC6Un0"
      },
      "execution_count": null,
      "outputs": []
    },
    {
      "cell_type": "code",
      "source": [
        "cp_callback = tf.keras.callbacks.ModelCheckpoint(\n",
        "    filepath=checkpoint_path, # 고유한 파일이름 부여 가능 \n",
        "    monitor='val_loss', # val_loss값을 기준으로 최저점일때를 기록하고 싶다면\n",
        "    save_best_only=True, # True를 주면 monitor기준 최고상태 기록\n",
        "    save_weights_only=False, # False면 모델 레이어 및 weight값 모두\n",
        "    # save_freq=5 # 체크포인트 저장하는 에폭주기 설정 가능\n",
        "    )"
      ],
      "metadata": {
        "id": "ZenGaJb-6Bd_"
      },
      "execution_count": null,
      "outputs": []
    },
    {
      "cell_type": "code",
      "source": [
        "# 새로운 모델 객체를 만듭니다\n",
        "model = create_model()"
      ],
      "metadata": {
        "id": "eX-M6emH6Tyh"
      },
      "execution_count": null,
      "outputs": []
    },
    {
      "cell_type": "code",
      "source": [
        "model.fit(train_images, \n",
        "          train_labels,\n",
        "          epochs=100, \n",
        "          callbacks=[cp_callback], # 체크포인트 부여\n",
        "          validation_data=(test_images,test_labels),\n",
        "          verbose=1)"
      ],
      "metadata": {
        "id": "sQxxdRA56a9S"
      },
      "execution_count": null,
      "outputs": []
    },
    {
      "cell_type": "markdown",
      "source": [
        "### SavedModel(pb)\n",
        "SavedModel 형식은 protobuf 바이너리와 TensorFlow 체크포인트를 포함"
      ],
      "metadata": {
        "id": "hdrCIPao8ZhI"
      }
    },
    {
      "cell_type": "code",
      "source": [
        "# 새로운 모델 객체를 만들고 훈련합니다\n",
        "model = create_model()\n",
        "model.fit(train_images, train_labels, epochs=5)\n",
        "\n",
        "# SavedModel로 전체 모델을 저장합니다\n",
        "!mkdir -p saved_model\n",
        "model.save('saved_model/my_model')"
      ],
      "metadata": {
        "colab": {
          "base_uri": "https://localhost:8080/"
        },
        "id": "i1RF2ZDz7n1m",
        "outputId": "f311f3e4-bc59-4995-f13e-a47b3159375a"
      },
      "execution_count": null,
      "outputs": [
        {
          "output_type": "stream",
          "name": "stdout",
          "text": [
            "Epoch 1/5\n",
            "32/32 [==============================] - 1s 5ms/step - loss: 1.1706 - accuracy: 0.6700\n",
            "Epoch 2/5\n",
            "32/32 [==============================] - 0s 6ms/step - loss: 0.4176 - accuracy: 0.8870\n",
            "Epoch 3/5\n",
            "32/32 [==============================] - 0s 6ms/step - loss: 0.2784 - accuracy: 0.9250\n",
            "Epoch 4/5\n",
            "32/32 [==============================] - 0s 6ms/step - loss: 0.2154 - accuracy: 0.9440\n",
            "Epoch 5/5\n",
            "32/32 [==============================] - 0s 6ms/step - loss: 0.1660 - accuracy: 0.9640\n"
          ]
        }
      ]
    },
    {
      "cell_type": "code",
      "source": [
        "# my_model 디렉토리\n",
        "!ls saved_model"
      ],
      "metadata": {
        "colab": {
          "base_uri": "https://localhost:8080/"
        },
        "id": "w-bavqEz8dkv",
        "outputId": "30903e78-0520-4511-a45f-b11e64fda65d"
      },
      "execution_count": null,
      "outputs": [
        {
          "output_type": "stream",
          "name": "stdout",
          "text": [
            "my_model\n"
          ]
        }
      ]
    },
    {
      "cell_type": "code",
      "source": [
        "# assests 폴더, saved_model.pb, variables 폴더\n",
        "!ls saved_model/my_model"
      ],
      "metadata": {
        "colab": {
          "base_uri": "https://localhost:8080/"
        },
        "id": "a0zNPirs7-N2",
        "outputId": "bf19d0fb-fb39-4d13-b4ec-1d5f45fd84a8"
      },
      "execution_count": null,
      "outputs": [
        {
          "output_type": "stream",
          "name": "stdout",
          "text": [
            "assets\tkeras_metadata.pb  saved_model.pb  variables\n"
          ]
        }
      ]
    },
    {
      "cell_type": "code",
      "source": [
        "new_model = tf.keras.models.load_model('saved_model/my_model')\n",
        "\n",
        "# 모델 구조를 확인합니다\n",
        "new_model.summary()"
      ],
      "metadata": {
        "colab": {
          "base_uri": "https://localhost:8080/"
        },
        "id": "FF950ha68bpY",
        "outputId": "ef14067c-5f7c-4f63-d8b8-2dd8ab109023"
      },
      "execution_count": null,
      "outputs": [
        {
          "output_type": "stream",
          "name": "stdout",
          "text": [
            "Model: \"sequential_9\"\n",
            "_________________________________________________________________\n",
            " Layer (type)                Output Shape              Param #   \n",
            "=================================================================\n",
            " dense_18 (Dense)            (None, 512)               401920    \n",
            "                                                                 \n",
            " dropout_9 (Dropout)         (None, 512)               0         \n",
            "                                                                 \n",
            " dense_19 (Dense)            (None, 10)                5130      \n",
            "                                                                 \n",
            "=================================================================\n",
            "Total params: 407,050\n",
            "Trainable params: 407,050\n",
            "Non-trainable params: 0\n",
            "_________________________________________________________________\n"
          ]
        }
      ]
    },
    {
      "cell_type": "markdown",
      "source": [
        "복원된 모델은 원본 모델과 동일한 매개변수로 컴파일되어 있습니다. 이 모델을 평가하고 예측에 사용해 보죠:"
      ],
      "metadata": {
        "id": "a4AhWFw48w7D"
      }
    },
    {
      "cell_type": "code",
      "source": [
        "# 복원된 모델을 평가합니다\n",
        "loss, acc = new_model.evaluate(test_images,  test_labels, verbose=2)\n",
        "print('복원된 모델의 정확도: {:5.2f}%'.format(100*acc))\n",
        "\n",
        "print(new_model.predict(test_images).shape)"
      ],
      "metadata": {
        "colab": {
          "base_uri": "https://localhost:8080/"
        },
        "id": "BWhfDOmP8i_9",
        "outputId": "803c6557-f036-4b4d-9d28-00e05c11a40f"
      },
      "execution_count": null,
      "outputs": [
        {
          "output_type": "stream",
          "name": "stdout",
          "text": [
            "32/32 - 0s - loss: 0.4314 - accuracy: 0.8590 - 181ms/epoch - 6ms/step\n",
            "복원된 모델의 정확도: 85.90%\n",
            "(1000, 10)\n"
          ]
        }
      ]
    },
    {
      "cell_type": "markdown",
      "source": [
        "### HDF5 파일로 저장하기\n",
        "케라스는 HDF5 표준을 따르는 기본 저장 포맷을 제공합니다."
      ],
      "metadata": {
        "id": "4xWv0B1B8yuz"
      }
    },
    {
      "cell_type": "code",
      "source": [
        "\n",
        "\n",
        "# 새로운 모델 객체를 만들고 훈련합니다\n",
        "model = create_model()\n",
        "model.fit(train_images, train_labels, epochs=5)\n",
        "\n",
        "# 전체 모델을 HDF5 파일로 저장합니다\n",
        "# '.h5' 확장자는 이 모델이 HDF5로 저장되었다는 것을 나타냅니다\n",
        "model.save('my_model.h5')"
      ],
      "metadata": {
        "colab": {
          "base_uri": "https://localhost:8080/"
        },
        "id": "GJhyLprL828I",
        "outputId": "4666424a-69eb-465f-f0df-9a32e92260c6"
      },
      "execution_count": null,
      "outputs": [
        {
          "output_type": "stream",
          "name": "stdout",
          "text": [
            "Epoch 1/5\n",
            "32/32 [==============================] - 1s 5ms/step - loss: 1.1607 - accuracy: 0.6710\n",
            "Epoch 2/5\n",
            "32/32 [==============================] - 0s 5ms/step - loss: 0.4225 - accuracy: 0.8790\n",
            "Epoch 3/5\n",
            "32/32 [==============================] - 0s 6ms/step - loss: 0.2956 - accuracy: 0.9230\n",
            "Epoch 4/5\n",
            "32/32 [==============================] - 0s 5ms/step - loss: 0.2079 - accuracy: 0.9460\n",
            "Epoch 5/5\n",
            "32/32 [==============================] - 0s 5ms/step - loss: 0.1621 - accuracy: 0.9680\n"
          ]
        }
      ]
    },
    {
      "cell_type": "markdown",
      "source": [
        "### h5 VS pb \n",
        "- 공통점 : 레이어 & 가중치 모두 저장\n",
        "- 차이점  \n",
        "1) HDF5 : 객체 구성을 사용하여 모델 아키텍처를 저장  \n",
        "2) SavedModel : 실행 그래프를 저장. 원본 코드 없이도 사용자 지정 객체를 저장 가능"
      ],
      "metadata": {
        "id": "l9wUm_X7AQq3"
      }
    },
    {
      "cell_type": "markdown",
      "source": [
        "#### h5 to pb 변환하기"
      ],
      "metadata": {
        "id": "P8T3vJ_HBfNG"
      }
    },
    {
      "cell_type": "code",
      "source": [
        "!mkdir converted"
      ],
      "metadata": {
        "id": "tDjCli6C_VFH"
      },
      "execution_count": null,
      "outputs": []
    },
    {
      "cell_type": "code",
      "source": [
        "model = tf.keras.models.load_model('my_model.h5')"
      ],
      "metadata": {
        "id": "f6dLaAWE_cTa"
      },
      "execution_count": null,
      "outputs": []
    },
    {
      "cell_type": "code",
      "source": [
        "export_path = 'converted'\n",
        "model.save(export_path, save_format=\"tf\")"
      ],
      "metadata": {
        "id": "N2TPwN9U-C5V"
      },
      "execution_count": null,
      "outputs": []
    },
    {
      "cell_type": "code",
      "source": [],
      "metadata": {
        "id": "9CLgeVKh1acG"
      },
      "execution_count": null,
      "outputs": []
    }
  ]
}